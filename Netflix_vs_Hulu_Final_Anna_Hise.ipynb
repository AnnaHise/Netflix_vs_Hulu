{
 "cells": [
  {
   "cell_type": "markdown",
   "id": "e0fbde6a",
   "metadata": {},
   "source": [
    "<a id='top'></a>"
   ]
  },
  {
   "cell_type": "markdown",
   "id": "5439d5c6",
   "metadata": {},
   "source": [
    "# <center>Netflix vs. Hulu"
   ]
  },
  {
   "cell_type": "markdown",
   "id": "5117b701",
   "metadata": {},
   "source": [
    "<img src= \"https://imgix.bustle.com/uploads/image/2017/8/29/c8c8077a-10fc-44d5-93f0-da4e592a299e-netflix-logo-print_pms.jpg?w=1200&h=630&fit=cr\"\n",
    "     align = \"center\"\n",
    "     width= \"300px\"\n",
    "     height=\"300px\"/> \n",
    "<img src=\"https://assetshuluimcom-a.akamaihd.net/h3o/facebook_share_thumb_default_hulu.jpg\"\n",
    "     width=\"300px\"\n",
    "     height=\"300px\"/>\n",
    "     \n",
    "## <center>Which streaming service is better?"
   ]
  },
  {
   "cell_type": "markdown",
   "id": "510d40e1",
   "metadata": {},
   "source": [
    "<h3>Table of Contents</h3>\n",
    "    <details>\n",
    "        <summary></summary>\n",
    "    \n",
    "### > [Background](#background)\n",
    "> * [Question](#question)\n",
    "> * [Data](#data)\n",
    "\n",
    "\n",
    "### > [Difficulties](#difficulties_overcoming_hurdles)\n",
    "> * [Null Values](#difficulties_overcoming_hurdles)\n",
    "> * ['rating' column](#difficulties_overcoming_hurdles)\n",
    "> * ['listed_in' and 'title' column](#difficulties_overcoming_hurdles)\n",
    "\n",
    "\n",
    "### > [Overcoming Hurdles](#difficulties_overcoming_hurdles)\n",
    "> * [Null Values Solution](#null_cleaning)\n",
    "> * ['rating' column Solution](#rating_cleaning)\n",
    "> * ['listed_in' and 'title' column Solution](#listed_in_title_cleaning)\n",
    "    \n",
    "### > [Results and Major Findings](#results)\n",
    "> * [Netflix](#netflix_hulu)\n",
    "> * [Hulu](#netflix_hulu)\n",
    "> * [Combined](#combined)\n",
    "\n",
    "### > [Next Steps](#next_steps)\n",
    " "
   ]
  },
  {
   "cell_type": "markdown",
   "id": "ab421004",
   "metadata": {},
   "source": [
    "<a id='background'></a>"
   ]
  },
  {
   "cell_type": "markdown",
   "id": "a8009502",
   "metadata": {},
   "source": [
    "# Background "
   ]
  },
  {
   "cell_type": "markdown",
   "id": "2f5c9d67",
   "metadata": {},
   "source": [
    "<a id='question'></a>"
   ]
  },
  {
   "cell_type": "markdown",
   "id": "a8b9ed7e",
   "metadata": {},
   "source": [
    "## Question\n",
    "\n",
    "...If you could only choose **one** streaming service, what would it be? \n",
    "\n",
    "It's hard to determine which streaming service is *truly* \"better\" because that will greatly depend on an individual's personal preferences. \n",
    "\n",
    "I stream movies and TV shows on both platforms (Netflix & Hulu) and switch between the two depending on the type of content or title I want to watch. I tend to use Hulu to stream TV Shows, and Netflix for movies--but I recently discovered that a show I'm watching is available on both platforms. Netflix has season 1, and Hulu has seasons 2 & 3...\n",
    "\n",
    "\n",
    "\n",
    "*slightly inconvenient.*"
   ]
  },
  {
   "cell_type": "markdown",
   "id": "ee4a32a4",
   "metadata": {},
   "source": [
    "I initially wanted to know ***how many titles crossed over between the two streaming services***--but after considering my own reasons for thinking one streaming service is better than the other (in certain cases), I wanted to discover patterns within the content provided by both Netflix and Hulu that would determine which streaming service would be \"better\" for and individual with certain content preferences. \n"
   ]
  },
  {
   "cell_type": "markdown",
   "id": "01992ba7",
   "metadata": {},
   "source": [
    "#### Some factors of each streaming service to consider:\n",
    " \n",
    "\n",
    "* Type of content provided\n",
    "    * Both streaming services offer a variety of movies and TV shows--but do they both offer a similar proportion of each?\n",
    "    * What *genres* are popular on each platform? \n",
    "\n",
    "***\n",
    "* Specific titles featured on each streaming service\n",
    "    * Some customers may be more attracted to one platform or another platform based on the titles available\n",
    "         * In addition to well-known movies/TV shows, both Netflix and Hulu create their own original series and movies--\n",
    "***\n",
    "* Ratings\n",
    "    * Since the titles and types of content will vary between the two streaming services, the ratings (PG, PG-13, R, etc...) will also vary--since some users may be sensitive to certain ratings, the proportion of each rating on the platforms may influence their choice\n",
    "    \n",
    "\n"
   ]
  },
  {
   "cell_type": "markdown",
   "id": "baf142ab",
   "metadata": {},
   "source": [
    "<a id='data'></a>"
   ]
  },
  {
   "cell_type": "markdown",
   "id": "9656b662",
   "metadata": {},
   "source": [
    "## Data\n",
    "\n",
    "* Netflix: https://www.kaggle.com/datasets/shivamb/netflix-shows\n",
    "* Hulu: https://www.kaggle.com/datasets/shivamb/hulu-movies-and-tv-shows\n",
    "\n",
    "I found both [datasets](#data_import) on Kaggle and chose them because they have similar overall structures--they contain the same number of columns and majority of data types are the same.\n",
    "\n",
    "The columns containing information that will be useful in my analysis:\n",
    "####  > <mark>type\n",
    "(A Movie or TV Show)\n",
    "#### > <mark> title \n",
    "(Title of the Movie / Tv Show)\n",
    "####  > <mark>rating\n",
    "(TV Rating of the movie / show)\n",
    "\n",
    "**They are also updated quarterly so I knew that they were at least somewhat current\n"
   ]
  },
  {
   "cell_type": "markdown",
   "id": "432c7404",
   "metadata": {},
   "source": [
    "<a id='difficulties_overcoming_hurdles'></a>"
   ]
  },
  {
   "cell_type": "markdown",
   "id": "283c834f",
   "metadata": {},
   "source": [
    "## Difficulties Taming the Data & Overcoming Hurdles\n",
    "\n",
    "\n",
    "#### > NULL values\n",
    "\n",
    " * Both datasets had quite a few null values\n",
    " * A lot of the null values were in the columns 'cast' and 'director' for both datasets ([Hulu](#df_info) in particular)\n",
    "     * Using the .dropna() command would've removed all the rows/columns from the Hulu dataframe \n",
    "> [Solution](#null_cleaning): Keep null values\n",
    "     \n",
    " * While the columns I primarily focused on didn't contain nulls, but having them in the dataset eliminates a large portion of information that could be used in future analysis\n",
    " \n",
    "#### > ratings\n",
    "  * Both datasets had some random values for what appeared to be movie durations and/or season numbers mixed in with the ratings\n",
    "  > [Solution](#rating_cleaning): Converting values that were not content ratings to np.nan\n",
    "\n",
    "  * This allowed me to keep the other information contained in those rows but clean the column up a little bit\n",
    "\n",
    "#### > listed_in & title\n",
    "  * I first tried to find related titles without changing the case in either of these columns but some were missed as a result\n",
    "  \n",
    "      > [Solution](#listed_in_title_cleaning): Converting the columns to lowercase\n",
    "      \n",
    "  * When I converted both columns to [lowercase] it increased the number of rows that were returned for titles appearing on both platforms"
   ]
  },
  {
   "cell_type": "markdown",
   "id": "f8155307",
   "metadata": {},
   "source": [
    "<a id='results'></a>"
   ]
  },
  {
   "cell_type": "markdown",
   "id": "1f225ba7",
   "metadata": {},
   "source": [
    "# Results & Major Findings"
   ]
  },
  {
   "cell_type": "markdown",
   "id": "01b978f3",
   "metadata": {},
   "source": [
    "<a id='netflix_hulu'></a>"
   ]
  },
  {
   "cell_type": "markdown",
   "id": "f37c0930",
   "metadata": {},
   "source": [
    "## Netflix & Hulu Datasets\n",
    "\n",
    "### **[Netflix Proportions of Content Type](#netflix_types)** \n",
    "   * 69.6% Movies\n",
    "   * 30.4% TV Shows\n",
    "\n",
    "\n",
    "\n",
    "### **[Hulu Proportions of Content Type](#hulu_types)**\n",
    "   * 48.3% Movies\n",
    "   * 51.7% TV Shows\n",
    "\n",
    "* Netflix has more than 2x the amount of Movies as they do TV Shows\n",
    "* Surprinsingly an almost an even split between the two types of content on Hulu\n",
    "\n",
    "\n",
    "\n",
    "***\n",
    "### **[Netflix Top Genres](#netflix_genres)**\n",
    "\n",
    "**Top 10 Genres**\n",
    "1. International Movies \n",
    "2. Dramas \n",
    "3. Comedies \n",
    "4. International TV Shows \n",
    "5. Documentaries\n",
    "6. Action & Adventure\n",
    "7. TV Dramas \n",
    "8. Independent Movies \n",
    "9. Children & Family Movies \n",
    "10. Romantic Movies \n",
    "\n",
    "\n",
    "### **[Hulu Top Genres: Hulu](#hulu_genres)**\n",
    "\n",
    "**Top 10 Genres**\n",
    "1. Drama \n",
    "2. Comedy \n",
    "3. Adevnture \n",
    "4. Action \n",
    "5. Documentaries \n",
    "6. Anime \n",
    "7. Horror \n",
    "8. Reality \n",
    "9. Thriller \n",
    "10. Crime\n",
    "\n",
    "\n",
    "* Some similar top genres are shared between the two streaming services, but these 10 give a sense of the kind of movies or TV shows you would expect to see on both\n",
    "* It was also interesting to me that International shows and movies were in the top 5 genres for netflix\n",
    "* Hulu seems to have more mature (maybe even...dark?) content whereas Netflix Top 10 includes Children & Family Movies and Romantic Movies\n",
    "\n",
    "\n",
    "***\n",
    "### **[Netflix Proportions of Ratings](#netflix_ratings)**\n",
    "\n",
    "**Top 5 Ratings**\n",
    "1. TV-MA: 36.4% \n",
    "2. TV-14: 24.5%\n",
    "3. TV-PG: 10%\n",
    "4. R: 9%\n",
    "5. PG-13: 5.6%\n",
    "\n",
    "### **[Hulu Proportions of Ratings](#hulu_ratings)**\n",
    "\n",
    "**Top 5 Ratings**\n",
    "1. TV-14: 30.6% \n",
    "2. TV-MA: 17.3%\n",
    "3. R: 15.3%\n",
    "4. TV-PG: 14.2%\n",
    "5. PG-13: 7.2%\n",
    "\n",
    "* Each streaming service has a higher percentage of ratings intended for older audiences\n",
    "\n",
    "***\n",
    "\n",
    "The Top Genres tell us a little about the audience that each streaming service may appeal to based on the kind of content they like to watch, and the ratings indicate the potential age range that uses either platform\n",
    "\n",
    "Next, I wanted to see how the ratings were distributed between the two different content categories\n",
    "\n",
    "### [Netflix Graph of Rating by Type](#netflix_graph_by_type)\n",
    "\n",
    "### [Hulu Graph of Rating by Type](#hulu_graph_by_type)\n",
    "\n",
    "\n",
    "\n",
    "\n",
    "***\n"
   ]
  },
  {
   "cell_type": "markdown",
   "id": "de045f69",
   "metadata": {},
   "source": [
    "<a id='combined'></a>"
   ]
  },
  {
   "cell_type": "markdown",
   "id": "39e0fa7c",
   "metadata": {},
   "source": [
    "## Combined Dataset\n",
    "\n",
    "I came back to my initial question which was: *how many titles appear on both platforms?*\n",
    "\n",
    "> I first combined the datasets, and then pulled out the duplicate rows based on their title and type\n",
    "\n",
    "* Total of 219 duplicate rows--or titles that appear on both streaming platforms\n",
    "\n",
    "* There was almost an even split of TV shows and Movies that are shared by both streaming services\n",
    "\n",
    "### [Combined DF type count ](#combined_type_count)\n",
    "\n",
    "* Movies: 113\n",
    "* TV Shows: 106\n",
    "\n",
    "***\n",
    "\n",
    "### [Combined Top Ratings](#combined_ratings)\n",
    "* TV-MA    32. 5%\n",
    "* TV-14    25.8%\n",
    "\n",
    "* The over almost 60% of the titles shared by the datasets are either TV-14 or TV-MA\n",
    "***\n",
    "### [Combined Graph of Rating by Type](#graph_combined_counts_by_type)\n",
    "\n",
    "* The highest proportion of TV-Shows shared by the streaming services are in the TV-14 rating category\n",
    "* Ratings R and PG-13 have the highest number of movies associated with them\n",
    "***\n",
    "### [Combined Top Genres](#combined_top_genres)\n",
    "\n",
    "\n",
    "**Top 10 Genres**\n",
    "1. Drama \n",
    "2. Adventure \n",
    "3. Action \n",
    "4. Comedy \n",
    "5. Anime \n",
    "6. Documentaries \n",
    "7. Horror \n",
    "8. Romance \n",
    "9. Thriller \n",
    "10. Family\n",
    "\n",
    "***\n",
    "\n"
   ]
  },
  {
   "cell_type": "markdown",
   "id": "b04f4294",
   "metadata": {},
   "source": [
    "<a id='next_steps'></a>"
   ]
  },
  {
   "cell_type": "markdown",
   "id": "2c40deef",
   "metadata": {},
   "source": [
    "# Next Steps...\n",
    "\n",
    "Another factor that could influence whether someone thinks one streaming service is better than another is the **Subscription Price**\n",
    "\n",
    ">Pricing plans vary for each streaming service wich is another factor that could potentially influence which service an individual chooses. Both have options from basic subscriptions to premium, and Hulu includes additional packages with features not offered by Netflix such as live TV, ESPN, and Disney+\n",
    "\n",
    "Analyzing the subscription pricing plans along with this initial analysis could provide a quantitative justification for why one streaming service is better than the other (in terms of cost/value/etc..)\n",
    "  \n",
    "\n",
    "\n",
    "* I could also look at my original question a little deeper and see how many shows have seasons split between the 2 streaming services"
   ]
  },
  {
   "cell_type": "markdown",
   "id": "2d252b23",
   "metadata": {},
   "source": [
    "<a id='import_clean'></a>"
   ]
  },
  {
   "cell_type": "markdown",
   "id": "c2a28309",
   "metadata": {},
   "source": [
    "### Data Import & Cleaning"
   ]
  },
  {
   "cell_type": "markdown",
   "id": "1e3a7c4a",
   "metadata": {},
   "source": [
    "<a id='library_import'></a>"
   ]
  },
  {
   "cell_type": "markdown",
   "id": "e31be9ab",
   "metadata": {},
   "source": [
    "#### Importing Libraries"
   ]
  },
  {
   "cell_type": "code",
   "execution_count": 1,
   "id": "0b6ea2a8",
   "metadata": {},
   "outputs": [],
   "source": [
    "#importing numpy library\n",
    "import numpy as np \n",
    "#importing pandas library\n",
    "import pandas as pd\n",
    "#imoprting seaborn library\n",
    "import seaborn as sns\n",
    "#importing datetime\n",
    "import datetime\n",
    "#importing matplotlib\n",
    "import matplotlib.pyplot as plt "
   ]
  },
  {
   "cell_type": "markdown",
   "id": "53c299bc",
   "metadata": {},
   "source": [
    "<a id='data_import'></a>"
   ]
  },
  {
   "cell_type": "markdown",
   "id": "446e8588",
   "metadata": {},
   "source": [
    "#### Importing Data"
   ]
  },
  {
   "cell_type": "code",
   "execution_count": 2,
   "id": "cd1afa8a",
   "metadata": {},
   "outputs": [],
   "source": [
    "#importing netflix dataset\n",
    "netflix = pd.read_csv('netflix_titles.csv')"
   ]
  },
  {
   "cell_type": "code",
   "execution_count": 3,
   "id": "7219d028",
   "metadata": {},
   "outputs": [],
   "source": [
    "#importing hulu dataset\n",
    "hulu = pd.read_csv('hulu_titles.csv')"
   ]
  },
  {
   "cell_type": "code",
   "execution_count": 4,
   "id": "a4cb6fda",
   "metadata": {
    "scrolled": false
   },
   "outputs": [
    {
     "name": "stdout",
     "output_type": "stream",
     "text": [
      "<class 'pandas.core.frame.DataFrame'>\n",
      "RangeIndex: 8807 entries, 0 to 8806\n",
      "Data columns (total 12 columns):\n",
      " #   Column        Non-Null Count  Dtype \n",
      "---  ------        --------------  ----- \n",
      " 0   show_id       8807 non-null   object\n",
      " 1   type          8807 non-null   object\n",
      " 2   title         8807 non-null   object\n",
      " 3   director      6173 non-null   object\n",
      " 4   cast          7982 non-null   object\n",
      " 5   country       7976 non-null   object\n",
      " 6   date_added    8797 non-null   object\n",
      " 7   release_year  8807 non-null   int64 \n",
      " 8   rating        8803 non-null   object\n",
      " 9   duration      8804 non-null   object\n",
      " 10  listed_in     8807 non-null   object\n",
      " 11  description   8807 non-null   object\n",
      "dtypes: int64(1), object(11)\n",
      "memory usage: 825.8+ KB\n",
      "<class 'pandas.core.frame.DataFrame'>\n",
      "RangeIndex: 3073 entries, 0 to 3072\n",
      "Data columns (total 12 columns):\n",
      " #   Column        Non-Null Count  Dtype  \n",
      "---  ------        --------------  -----  \n",
      " 0   show_id       3073 non-null   object \n",
      " 1   type          3073 non-null   object \n",
      " 2   title         3073 non-null   object \n",
      " 3   director      3 non-null      object \n",
      " 4   cast          0 non-null      float64\n",
      " 5   country       1620 non-null   object \n",
      " 6   date_added    3045 non-null   object \n",
      " 7   release_year  3073 non-null   int64  \n",
      " 8   rating        2553 non-null   object \n",
      " 9   duration      2594 non-null   object \n",
      " 10  listed_in     3073 non-null   object \n",
      " 11  description   3069 non-null   object \n",
      "dtypes: float64(1), int64(1), object(10)\n",
      "memory usage: 288.2+ KB\n"
     ]
    }
   ],
   "source": [
    "#summary of the dataframe\n",
    "netflix.info()\n",
    "#summary of the dataframe\n",
    "hulu.info()"
   ]
  },
  {
   "cell_type": "markdown",
   "id": "74b36088",
   "metadata": {},
   "source": [
    "[back to data](#data)"
   ]
  },
  {
   "cell_type": "markdown",
   "id": "d5934f1b",
   "metadata": {},
   "source": [
    "<a id='df_info'></a>"
   ]
  },
  {
   "cell_type": "markdown",
   "id": "8782c715",
   "metadata": {},
   "source": [
    "* Netflix:\n",
    "    * 12 columms\n",
    "    * 8807 entries\n",
    "    * 6 columns with null entries\n",
    "\n",
    "\n",
    "* Hulu:\n",
    "    * 12 columms\n",
    "    * 3073 entries\n",
    "    * 7 columns with null entries\n",
    "\n"
   ]
  },
  {
   "cell_type": "markdown",
   "id": "546e9c20",
   "metadata": {},
   "source": [
    "[back to difficulties/overcoming hurdles](#difficulties_overcoming_hurdles)"
   ]
  },
  {
   "cell_type": "markdown",
   "id": "1f12573d",
   "metadata": {},
   "source": [
    "<a id='cleaning'></a>"
   ]
  },
  {
   "cell_type": "markdown",
   "id": "1240e60e",
   "metadata": {},
   "source": [
    "## Cleaning Data"
   ]
  },
  {
   "cell_type": "markdown",
   "id": "12ad0fd1",
   "metadata": {},
   "source": [
    "<a id='null_cleaning'></a>"
   ]
  },
  {
   "cell_type": "markdown",
   "id": "76acdd85",
   "metadata": {},
   "source": [
    "#### Null Values"
   ]
  },
  {
   "cell_type": "code",
   "execution_count": 5,
   "id": "0dcfa805",
   "metadata": {
    "scrolled": false
   },
   "outputs": [
    {
     "data": {
      "text/plain": [
       "show_id            0\n",
       "type               0\n",
       "title              0\n",
       "director        2634\n",
       "cast             825\n",
       "country          831\n",
       "date_added        10\n",
       "release_year       0\n",
       "rating             4\n",
       "duration           3\n",
       "listed_in          0\n",
       "description        0\n",
       "dtype: int64"
      ]
     },
     "execution_count": 5,
     "metadata": {},
     "output_type": "execute_result"
    }
   ],
   "source": [
    "#showing null counts for netflix\n",
    "netflix.isnull().sum()"
   ]
  },
  {
   "cell_type": "code",
   "execution_count": 6,
   "id": "eda47dcc",
   "metadata": {
    "scrolled": false
   },
   "outputs": [
    {
     "data": {
      "text/plain": [
       "show_id            0\n",
       "type               0\n",
       "title              0\n",
       "director        3070\n",
       "cast            3073\n",
       "country         1453\n",
       "date_added        28\n",
       "release_year       0\n",
       "rating           520\n",
       "duration         479\n",
       "listed_in          0\n",
       "description        4\n",
       "dtype: int64"
      ]
     },
     "execution_count": 6,
     "metadata": {},
     "output_type": "execute_result"
    }
   ],
   "source": [
    "#showing null counts for hulu\n",
    "hulu.isnull().sum()"
   ]
  },
  {
   "cell_type": "markdown",
   "id": "993675ab",
   "metadata": {},
   "source": [
    "<a id='results_null'></a>"
   ]
  },
  {
   "cell_type": "markdown",
   "id": "4fa7e5d2",
   "metadata": {},
   "source": [
    "**Netflix Null Entries**\n",
    "* director : 2634 \n",
    "* cast : 825 \n",
    "* country : 831\n",
    "* date_added : 10\n",
    "* rating : 4\n",
    "* duration : 3\n",
    "\n",
    "**Hulu Null Entries**\n",
    "* director : 3070\n",
    "* cast : 3073 (all entries all null)\n",
    "* country : 1453\n",
    "* date_added : 28\n",
    "* rating : 520\n",
    "* duration : 479\n",
    "* description : 4\n"
   ]
  },
  {
   "cell_type": "markdown",
   "id": "986218f6",
   "metadata": {},
   "source": [
    "[back to difficulties/overcoming hurdles](#difficulties_overcoming_hurdles)"
   ]
  },
  {
   "cell_type": "markdown",
   "id": "80d2640b",
   "metadata": {},
   "source": [
    "<a id='show_id_cleaning'></a>"
   ]
  },
  {
   "cell_type": "markdown",
   "id": "9be1e7aa",
   "metadata": {},
   "source": [
    "#### show_id column\n",
    "\n",
    "The show_id column is specific to each dataset and is not necessarily useful in this analysis, so they can be dropped"
   ]
  },
  {
   "cell_type": "code",
   "execution_count": 7,
   "id": "a555fa08",
   "metadata": {},
   "outputs": [
    {
     "data": {
      "text/plain": [
       "0          s1\n",
       "1          s2\n",
       "2          s3\n",
       "3          s4\n",
       "4          s5\n",
       "        ...  \n",
       "8802    s8803\n",
       "8803    s8804\n",
       "8804    s8805\n",
       "8805    s8806\n",
       "8806    s8807\n",
       "Name: show_id, Length: 8807, dtype: object"
      ]
     },
     "execution_count": 7,
     "metadata": {},
     "output_type": "execute_result"
    }
   ],
   "source": [
    "#showing the show_id column for netflix\n",
    "netflix.show_id"
   ]
  },
  {
   "cell_type": "code",
   "execution_count": 8,
   "id": "ac81e04c",
   "metadata": {},
   "outputs": [
    {
     "data": {
      "text/plain": [
       "0          s1\n",
       "1          s2\n",
       "2          s3\n",
       "3          s4\n",
       "4          s5\n",
       "        ...  \n",
       "3068    s3069\n",
       "3069    s3070\n",
       "3070    s3071\n",
       "3071    s3072\n",
       "3072    s3073\n",
       "Name: show_id, Length: 3073, dtype: object"
      ]
     },
     "execution_count": 8,
     "metadata": {},
     "output_type": "execute_result"
    }
   ],
   "source": [
    "#showing the show_id column for hulu\n",
    "hulu.show_id"
   ]
  },
  {
   "cell_type": "code",
   "execution_count": 9,
   "id": "51db7e5b",
   "metadata": {
    "scrolled": true
   },
   "outputs": [],
   "source": [
    "#dropping the show_id column from the netflix dataframe\n",
    "netflix = netflix.drop(['show_id'], axis=1)"
   ]
  },
  {
   "cell_type": "code",
   "execution_count": 10,
   "id": "7bf6ab74",
   "metadata": {},
   "outputs": [],
   "source": [
    "#dropping the show_id column from the netflix dataframe\n",
    "hulu = hulu.drop(['show_id'], axis=1)"
   ]
  },
  {
   "cell_type": "markdown",
   "id": "9a8c11a5",
   "metadata": {},
   "source": [
    "<a id='rating_cleaning'></a>"
   ]
  },
  {
   "cell_type": "markdown",
   "id": "25838827",
   "metadata": {},
   "source": [
    "#### rating column"
   ]
  },
  {
   "cell_type": "code",
   "execution_count": 11,
   "id": "cf6735dd",
   "metadata": {
    "scrolled": false
   },
   "outputs": [
    {
     "data": {
      "text/plain": [
       "array(['PG-13', 'TV-MA', 'PG', 'TV-14', 'TV-PG', 'TV-Y', 'TV-Y7', 'R',\n",
       "       'TV-G', 'G', 'NC-17', '74 min', '84 min', '66 min', 'NR', nan,\n",
       "       'TV-Y7-FV', 'UR'], dtype=object)"
      ]
     },
     "execution_count": 11,
     "metadata": {},
     "output_type": "execute_result"
    }
   ],
   "source": [
    "netflix.rating.unique()"
   ]
  },
  {
   "cell_type": "code",
   "execution_count": 12,
   "id": "36ada99e",
   "metadata": {},
   "outputs": [
    {
     "data": {
      "text/plain": [
       "array(['90 min', '2 Seasons', '1 Season', '91 min', '125 min',\n",
       "       '9 Seasons', '104 min', '127 min', '4 Seasons', '67 min', '94 min',\n",
       "       '5 Seasons', '161 min', '61 min', '166 min', '147 min', '103 min',\n",
       "       '97 min', '106 min', '111 min', '3 Seasons', '110 min', '105 min',\n",
       "       '96 min', '124 min', '116 min', '98 min', '23 min', '115 min',\n",
       "       '122 min', '99 min', '88 min', '100 min', '6 Seasons', '102 min',\n",
       "       '93 min', '95 min', '85 min', '83 min', '113 min', '13 min',\n",
       "       '182 min', '48 min', '145 min', '87 min', '92 min', '80 min',\n",
       "       '117 min', '128 min', '119 min', '143 min', '114 min', '118 min',\n",
       "       '108 min', '63 min', '121 min', '142 min', '154 min', '120 min',\n",
       "       '82 min', '109 min', '101 min', '86 min', '229 min', '76 min',\n",
       "       '89 min', '156 min', '112 min', '107 min', '129 min', '135 min',\n",
       "       '136 min', '165 min', '150 min', '133 min', '70 min', '84 min',\n",
       "       '140 min', '78 min', '7 Seasons', '64 min', '59 min', '139 min',\n",
       "       '69 min', '148 min', '189 min', '141 min', '130 min', '138 min',\n",
       "       '81 min', '132 min', '10 Seasons', '123 min', '65 min', '68 min',\n",
       "       '66 min', '62 min', '74 min', '131 min', '39 min', '46 min',\n",
       "       '38 min', '8 Seasons', '17 Seasons', '126 min', '155 min',\n",
       "       '159 min', '137 min', '12 min', '273 min', '36 min', '34 min',\n",
       "       '77 min', '60 min', '49 min', '58 min', '72 min', '204 min',\n",
       "       '212 min', '25 min', '73 min', '29 min', '47 min', '32 min',\n",
       "       '35 min', '71 min', '149 min', '33 min', '15 min', '54 min',\n",
       "       '224 min', '162 min', '37 min', '75 min', '79 min', '55 min',\n",
       "       '158 min', '164 min', '173 min', '181 min', '185 min', '21 min',\n",
       "       '24 min', '51 min', '151 min', '42 min', '22 min', '134 min',\n",
       "       '177 min', '13 Seasons', '52 min', '14 min', '53 min', '8 min',\n",
       "       '57 min', '28 min', '50 min', '9 min', '26 min', '45 min',\n",
       "       '171 min', '27 min', '44 min', '146 min', '20 min', '157 min',\n",
       "       '17 min', '203 min', '41 min', '30 min', '194 min', '15 Seasons',\n",
       "       '233 min', '237 min', '230 min', '195 min', '253 min', '152 min',\n",
       "       '190 min', '160 min', '208 min', '180 min', '144 min', '5 min',\n",
       "       '174 min', '170 min', '192 min', '209 min', '187 min', '172 min',\n",
       "       '16 min', '186 min', '11 min', '193 min', '176 min', '56 min',\n",
       "       '169 min', '40 min', '10 min', '3 min', '168 min', '312 min',\n",
       "       '153 min', '214 min', '31 min', '163 min', '19 min', '12 Seasons',\n",
       "       nan, '179 min', '11 Seasons', '43 min', '200 min', '196 min',\n",
       "       '167 min', '178 min', '228 min', '18 min', '205 min', '201 min',\n",
       "       '191 min'], dtype=object)"
      ]
     },
     "execution_count": 12,
     "metadata": {},
     "output_type": "execute_result"
    }
   ],
   "source": [
    "netflix.duration.unique()"
   ]
  },
  {
   "cell_type": "code",
   "execution_count": 13,
   "id": "e07dd246",
   "metadata": {},
   "outputs": [
    {
     "data": {
      "text/plain": [
       "array(['TV-MA', nan, 'PG-13', 'R', 'TV-14', 'PG', 'TV-PG', 'NOT RATED',\n",
       "       'G', 'TV-G', '2 Seasons', 'TV-Y', '93 min', '4 Seasons', 'TV-Y7',\n",
       "       '136 min', '91 min', '85 min', '98 min', '89 min', '94 min',\n",
       "       '86 min', '3 Seasons', '121 min', '88 min', '101 min', '1 Season',\n",
       "       '83 min', '100 min', '95 min', '92 min', '96 min', '109 min',\n",
       "       '99 min', '75 min', '87 min', '67 min', '104 min', '107 min',\n",
       "       '84 min', '103 min', '105 min', '119 min', '114 min', '82 min',\n",
       "       '90 min', '130 min', '110 min', '80 min', '6 Seasons', '97 min',\n",
       "       '111 min', '81 min', '49 min', '45 min', '41 min', '73 min',\n",
       "       '40 min', '36 min', '39 min', '34 min', '47 min', '65 min',\n",
       "       '37 min', '78 min', '102 min', '129 min', '115 min', '112 min',\n",
       "       'NR', '61 min', '106 min', '76 min', '77 min', '79 min', '157 min',\n",
       "       '28 min', '64 min', '7 min', '5 min', '6 min', '127 min',\n",
       "       '142 min', '108 min', '57 min', '118 min', '116 min', '12 Seasons',\n",
       "       '71 min'], dtype=object)"
      ]
     },
     "execution_count": 13,
     "metadata": {},
     "output_type": "execute_result"
    }
   ],
   "source": [
    "hulu.rating.unique()"
   ]
  },
  {
   "cell_type": "code",
   "execution_count": 14,
   "id": "e5da8727",
   "metadata": {
    "scrolled": true
   },
   "outputs": [
    {
     "data": {
      "text/plain": [
       "array([nan, '94 min', '108 min', '97 min', '104 min', '1 Season',\n",
       "       '88 min', '3 Seasons', '113 min', '6 Seasons', '87 min',\n",
       "       '7 Seasons', '2 Seasons', '4 Seasons', '84 min', '95 min',\n",
       "       '15 Seasons', '101 min', '93 min', '105 min', '12 Seasons',\n",
       "       '8 Seasons', '99 min', '112 min', '124 min', '23 Seasons',\n",
       "       '145 min', '125 min', '157 min', '41 min', '89 min', '5 Seasons',\n",
       "       '80 min', '90 min', '116 min', '102 min', '100 min', '110 min',\n",
       "       '114 min', '115 min', '130 min', '133 min', '91 min', '121 min',\n",
       "       '96 min', '107 min', '103 min', '109 min', '98 min', '119 min',\n",
       "       '106 min', '111 min', '118 min', '117 min', '136 min', '181 min',\n",
       "       '182 min', '128 min', '138 min', '126 min', '72 min', '16 Seasons',\n",
       "       '20 Seasons', '9 Seasons', '86 min', '75 min', '144 min', '26 min',\n",
       "       '76 min', '129 min', '83 min', '92 min', '127 min', '139 min',\n",
       "       '79 min', '192 min', '131 min', '123 min', '122 min', '82 min',\n",
       "       '10 Seasons', '81 min', '134 min', '135 min', '170 min', '162 min',\n",
       "       '40 min', '13 Seasons', '45 min', '152 min', '85 min',\n",
       "       '14 Seasons', '146 min', '11 Seasons', '161 min', '29 Seasons',\n",
       "       '143 min', '142 min', '63 min', '42 min', '17 Seasons', '120 min',\n",
       "       '77 min', '65 min', '70 min', '19 Seasons', '30 Seasons',\n",
       "       '22 Seasons', '149 min', '52 min', '23 min', '60 min', '1 min',\n",
       "       '153 min', '151 min', '46 min', '37 min', '132 min', '67 min',\n",
       "       '44 min', '51 min', '58 min', '71 min', '74 min', '78 min',\n",
       "       '25 Seasons', '6 min', '2 min', '57 min', '5 min', '4 min',\n",
       "       '34 Seasons', '54 min', '56 min', '25 min', '26 Seasons'],\n",
       "      dtype=object)"
      ]
     },
     "execution_count": 14,
     "metadata": {},
     "output_type": "execute_result"
    }
   ],
   "source": [
    "hulu.duration.unique()"
   ]
  },
  {
   "cell_type": "code",
   "execution_count": 15,
   "id": "c2fe4a85",
   "metadata": {},
   "outputs": [],
   "source": [
    "netflix.rating.replace(('74 min','84 min','66 min'), np.nan, inplace=True)"
   ]
  },
  {
   "cell_type": "code",
   "execution_count": 16,
   "id": "a31476cc",
   "metadata": {
    "scrolled": true
   },
   "outputs": [
    {
     "data": {
      "text/plain": [
       "array(['PG-13', 'TV-MA', 'PG', 'TV-14', 'TV-PG', 'TV-Y', 'TV-Y7', 'R',\n",
       "       'TV-G', 'G', 'NC-17', nan, 'NR', 'TV-Y7-FV', 'UR'], dtype=object)"
      ]
     },
     "execution_count": 16,
     "metadata": {},
     "output_type": "execute_result"
    }
   ],
   "source": [
    "netflix.rating.unique()"
   ]
  },
  {
   "cell_type": "code",
   "execution_count": 17,
   "id": "cdab4f28",
   "metadata": {},
   "outputs": [],
   "source": [
    "hulu.rating.replace(('2 Seasons',\n",
    "                     '93 min', '4 Seasons','136 min','91 min', '85 min', '98 min', '89 min', '94 min', '86 min',\n",
    "       '3 Seasons', '121 min', '88 min', '101 min', '1 Season', '83 min',\n",
    "       '100 min', '95 min', '92 min', '96 min', '109 min', '99 min',\n",
    "       '75 min', '87 min', '67 min', '104 min', '107 min', '84 min',\n",
    "       '103 min', '105 min', '119 min', '114 min', '82 min', '90 min',\n",
    "       '130 min', '110 min', '80 min', '6 Seasons', '97 min', '111 min',\n",
    "       '81 min', '49 min', '45 min', '41 min', '73 min', '40 min',\n",
    "       '36 min', '39 min', '34 min', '47 min', '65 min', '37 min',\n",
    "       '78 min', '102 min', '129 min', '115 min', '112 min',  '61 min', '106 min', '76 min', '77 min', '79 min', '157 min',\n",
    "       '28 min', '64 min', '7 min', '5 min', '6 min', '127 min',\n",
    "       '142 min', '108 min', '57 min', '118 min', '116 min', '12 Seasons',\n",
    "       '71 min'),np.nan, inplace=True)"
   ]
  },
  {
   "cell_type": "code",
   "execution_count": 18,
   "id": "0cda7af8",
   "metadata": {
    "scrolled": true
   },
   "outputs": [
    {
     "data": {
      "text/plain": [
       "array(['TV-MA', nan, 'PG-13', 'R', 'TV-14', 'PG', 'TV-PG', 'NOT RATED',\n",
       "       'G', 'TV-G', 'TV-Y', 'TV-Y7', 'NR'], dtype=object)"
      ]
     },
     "execution_count": 18,
     "metadata": {},
     "output_type": "execute_result"
    }
   ],
   "source": [
    "hulu.rating.unique()"
   ]
  },
  {
   "cell_type": "markdown",
   "id": "dd17a7c1",
   "metadata": {},
   "source": [
    "[back to difficulties/overcoming hurdles](#difficulties_overcoming_hurdles)"
   ]
  },
  {
   "cell_type": "markdown",
   "id": "f8a68e46",
   "metadata": {},
   "source": [
    "<a id='listed_in_title_cleaning'></a>"
   ]
  },
  {
   "cell_type": "markdown",
   "id": "a2a935e3",
   "metadata": {},
   "source": [
    "#### changing case in 'listed_in' and 'title' columns"
   ]
  },
  {
   "cell_type": "code",
   "execution_count": 19,
   "id": "9ec7ad08",
   "metadata": {
    "scrolled": true
   },
   "outputs": [],
   "source": [
    "netflix['listed_in'] = netflix['listed_in'].str.lower()\n",
    "netflix['title'] = netflix['title'].str.lower()"
   ]
  },
  {
   "cell_type": "code",
   "execution_count": 20,
   "id": "fc7525e1",
   "metadata": {
    "scrolled": false
   },
   "outputs": [],
   "source": [
    "hulu['listed_in'] = hulu['listed_in'].str.lower()\n",
    "hulu['title'] = hulu['title'].str.lower()"
   ]
  },
  {
   "cell_type": "markdown",
   "id": "5ee1331a",
   "metadata": {},
   "source": [
    "[back to difficulties/overcoming hurdles](#difficulties_overcoming_hurdles)"
   ]
  },
  {
   "cell_type": "markdown",
   "id": "20b8e0c4",
   "metadata": {},
   "source": [
    "<a id='netflix_types'></a>"
   ]
  },
  {
   "cell_type": "markdown",
   "id": "d52cc2d8",
   "metadata": {},
   "source": [
    "### Netflix 'type' Proportions"
   ]
  },
  {
   "cell_type": "code",
   "execution_count": 21,
   "id": "59a739f1",
   "metadata": {
    "scrolled": false
   },
   "outputs": [],
   "source": [
    "#normalizing netflix 'type' values (movies or TV shows) to show their proportions\n",
    "netflix_types_normalized = netflix['type'].value_counts(normalize=True)"
   ]
  },
  {
   "cell_type": "code",
   "execution_count": 22,
   "id": "bc9c3f63",
   "metadata": {
    "scrolled": false
   },
   "outputs": [
    {
     "data": {
      "text/plain": [
       "Movie      69.615079\n",
       "TV Show    30.384921\n",
       "Name: type, dtype: float64"
      ]
     },
     "execution_count": 22,
     "metadata": {},
     "output_type": "execute_result"
    }
   ],
   "source": [
    "#turning the proportion into a %\n",
    "netflix_types_normalized*100"
   ]
  },
  {
   "cell_type": "markdown",
   "id": "4267e9c5",
   "metadata": {},
   "source": [
    "[back to results and findings](#netflix_hulu)"
   ]
  },
  {
   "cell_type": "markdown",
   "id": "70524a3c",
   "metadata": {},
   "source": [
    "<a id='netflix_genres'></a>"
   ]
  },
  {
   "cell_type": "markdown",
   "id": "045dbd36",
   "metadata": {},
   "source": [
    "### Netflix Top 10 genres "
   ]
  },
  {
   "cell_type": "code",
   "execution_count": 23,
   "id": "8a30fcb3",
   "metadata": {
    "scrolled": false
   },
   "outputs": [],
   "source": [
    "netflix_genres=list(netflix['listed_in'])\n",
    "\n",
    "empty=[]\n",
    "\n",
    "\n",
    "for x in netflix_genres:\n",
    "    temp=x.split(', ')\n",
    "    for y in temp:\n",
    "        empty.append(y)\n",
    "\n",
    "empty=pd.DataFrame(empty)\n",
    "empty.columns=['genre']\n",
    "group=empty.groupby('genre').agg({'genre':'count'})\n",
    "netflix_top_10_genres = group.apply(lambda x: x.sort_values(ascending=False))[:10]\n",
    "\n",
    "netflix_top_10_genres = pd.DataFrame(netflix_top_10_genres)\n"
   ]
  },
  {
   "cell_type": "code",
   "execution_count": 24,
   "id": "7faeac99",
   "metadata": {
    "scrolled": true
   },
   "outputs": [],
   "source": [
    "netflix_top_10_genres['count'] = netflix_top_10_genres['genre']\n",
    "netflix_top_10_genres = netflix_top_10_genres.drop('genre', axis=1)"
   ]
  },
  {
   "cell_type": "code",
   "execution_count": 25,
   "id": "cf559e5f",
   "metadata": {
    "scrolled": true
   },
   "outputs": [
    {
     "data": {
      "text/html": [
       "<div>\n",
       "<style scoped>\n",
       "    .dataframe tbody tr th:only-of-type {\n",
       "        vertical-align: middle;\n",
       "    }\n",
       "\n",
       "    .dataframe tbody tr th {\n",
       "        vertical-align: top;\n",
       "    }\n",
       "\n",
       "    .dataframe thead th {\n",
       "        text-align: right;\n",
       "    }\n",
       "</style>\n",
       "<table border=\"1\" class=\"dataframe\">\n",
       "  <thead>\n",
       "    <tr style=\"text-align: right;\">\n",
       "      <th></th>\n",
       "      <th>count</th>\n",
       "    </tr>\n",
       "    <tr>\n",
       "      <th>genre</th>\n",
       "      <th></th>\n",
       "    </tr>\n",
       "  </thead>\n",
       "  <tbody>\n",
       "    <tr>\n",
       "      <th>international movies</th>\n",
       "      <td>2752</td>\n",
       "    </tr>\n",
       "    <tr>\n",
       "      <th>dramas</th>\n",
       "      <td>2427</td>\n",
       "    </tr>\n",
       "    <tr>\n",
       "      <th>comedies</th>\n",
       "      <td>1674</td>\n",
       "    </tr>\n",
       "    <tr>\n",
       "      <th>international tv shows</th>\n",
       "      <td>1351</td>\n",
       "    </tr>\n",
       "    <tr>\n",
       "      <th>documentaries</th>\n",
       "      <td>869</td>\n",
       "    </tr>\n",
       "    <tr>\n",
       "      <th>action &amp; adventure</th>\n",
       "      <td>859</td>\n",
       "    </tr>\n",
       "    <tr>\n",
       "      <th>tv dramas</th>\n",
       "      <td>763</td>\n",
       "    </tr>\n",
       "    <tr>\n",
       "      <th>independent movies</th>\n",
       "      <td>756</td>\n",
       "    </tr>\n",
       "    <tr>\n",
       "      <th>children &amp; family movies</th>\n",
       "      <td>641</td>\n",
       "    </tr>\n",
       "    <tr>\n",
       "      <th>romantic movies</th>\n",
       "      <td>616</td>\n",
       "    </tr>\n",
       "  </tbody>\n",
       "</table>\n",
       "</div>"
      ],
      "text/plain": [
       "                          count\n",
       "genre                          \n",
       "international movies       2752\n",
       "dramas                     2427\n",
       "comedies                   1674\n",
       "international tv shows     1351\n",
       "documentaries               869\n",
       "action & adventure          859\n",
       "tv dramas                   763\n",
       "independent movies          756\n",
       "children & family movies    641\n",
       "romantic movies             616"
      ]
     },
     "execution_count": 25,
     "metadata": {},
     "output_type": "execute_result"
    }
   ],
   "source": [
    "netflix_top_10_genres"
   ]
  },
  {
   "cell_type": "markdown",
   "id": "dbf6071c",
   "metadata": {},
   "source": [
    "[back to results and findings](#netflix_hulu)"
   ]
  },
  {
   "cell_type": "markdown",
   "id": "4b6f98f5",
   "metadata": {},
   "source": [
    "<a id='netflix_ratings'></a>"
   ]
  },
  {
   "cell_type": "markdown",
   "id": "5e85300c",
   "metadata": {},
   "source": [
    "### Netflix 'rating' proportions"
   ]
  },
  {
   "cell_type": "code",
   "execution_count": 26,
   "id": "81ac1427",
   "metadata": {
    "scrolled": true
   },
   "outputs": [
    {
     "data": {
      "text/plain": [
       "TV-MA    36.443182\n",
       "TV-14    24.545455\n",
       "TV-PG     9.806818\n",
       "R         9.079545\n",
       "PG-13     5.568182\n",
       "TV-Y7     3.795455\n",
       "TV-Y      3.488636\n",
       "PG        3.261364\n",
       "TV-G      2.500000\n",
       "NR        0.909091\n",
       "Name: rating, dtype: float64"
      ]
     },
     "execution_count": 26,
     "metadata": {},
     "output_type": "execute_result"
    }
   ],
   "source": [
    "#normalizing the value counts for netflix ratings to get the proportions\n",
    "netflix_ratings = netflix['rating'].value_counts(normalize=True, ascending=False)[:10]\n",
    "netflix_ratings*100"
   ]
  },
  {
   "cell_type": "markdown",
   "id": "180105fa",
   "metadata": {},
   "source": [
    "<a id='netflix_graph_by_type'></a>"
   ]
  },
  {
   "cell_type": "code",
   "execution_count": 27,
   "id": "118272b2",
   "metadata": {
    "scrolled": false
   },
   "outputs": [
    {
     "data": {
      "image/png": "[encoded data removed]",
      "text/plain": [
       "<Figure size 2500x1000 with 1 Axes>"
      ]
     },
     "metadata": {},
     "output_type": "display_data"
    }
   ],
   "source": [
    "#displaying the counts of each rating by the type of content\n",
    "plt.figure(figsize=(25,10))\n",
    "sns.countplot(data = netflix, x = 'rating', hue=\"type\")\n",
    "plt.xlabel(\"rating\")\n",
    "plt.xticks(rotation=90)\n",
    "plt.ylabel(\"Counts of Ratings by Type of Content\")\n",
    "plt.show()"
   ]
  },
  {
   "cell_type": "markdown",
   "id": "4efb96b1",
   "metadata": {},
   "source": [
    "[back to results and findings](#netflix_hulu)"
   ]
  },
  {
   "cell_type": "markdown",
   "id": "ef7d92e6",
   "metadata": {},
   "source": [
    "<a id='hulu_types'></a>"
   ]
  },
  {
   "cell_type": "markdown",
   "id": "ce26974b",
   "metadata": {},
   "source": [
    "### Hulu 'type' proportions"
   ]
  },
  {
   "cell_type": "code",
   "execution_count": 28,
   "id": "8c7a4b51",
   "metadata": {},
   "outputs": [
    {
     "data": {
      "text/plain": [
       "TV Show    51.708428\n",
       "Movie      48.291572\n",
       "Name: type, dtype: float64"
      ]
     },
     "execution_count": 28,
     "metadata": {},
     "output_type": "execute_result"
    }
   ],
   "source": [
    "#normalizing hulu 'type' values to show their proportion in the dataset\n",
    "hulu_type_percentage = hulu['type'].value_counts(normalize=True)\n",
    "hulu_type_percentage*100"
   ]
  },
  {
   "cell_type": "markdown",
   "id": "662d8d67",
   "metadata": {},
   "source": [
    "[back to results and findings](#netflix_hulu)"
   ]
  },
  {
   "cell_type": "markdown",
   "id": "b0b59f67",
   "metadata": {},
   "source": [
    "<a id='hulu_genres'></a>"
   ]
  },
  {
   "cell_type": "markdown",
   "id": "0207bc17",
   "metadata": {},
   "source": [
    "### Hulu Top 10 genres"
   ]
  },
  {
   "cell_type": "code",
   "execution_count": 29,
   "id": "3c3a6115",
   "metadata": {
    "scrolled": true
   },
   "outputs": [],
   "source": [
    "hulu_genres=list(hulu['listed_in'])\n",
    "\n",
    "empty=[]\n",
    "\n",
    "\n",
    "for x in hulu_genres:\n",
    "    temp=x.split(', ')\n",
    "    for y in temp:\n",
    "        empty.append(y)\n",
    "\n",
    "empty=pd.DataFrame(empty)\n",
    "empty.columns=['genre']\n",
    "group=empty.groupby('genre').agg({'genre':'count'})\n",
    "hulu_top_10_genres = group.apply(lambda x: x.sort_values(ascending=False))[:10]\n",
    "\n",
    "hulu_top_10_genres = pd.DataFrame(hulu_top_10_genres)"
   ]
  },
  {
   "cell_type": "code",
   "execution_count": 30,
   "id": "428a45d2",
   "metadata": {
    "scrolled": true
   },
   "outputs": [
    {
     "data": {
      "text/html": [
       "<div>\n",
       "<style scoped>\n",
       "    .dataframe tbody tr th:only-of-type {\n",
       "        vertical-align: middle;\n",
       "    }\n",
       "\n",
       "    .dataframe tbody tr th {\n",
       "        vertical-align: top;\n",
       "    }\n",
       "\n",
       "    .dataframe thead th {\n",
       "        text-align: right;\n",
       "    }\n",
       "</style>\n",
       "<table border=\"1\" class=\"dataframe\">\n",
       "  <thead>\n",
       "    <tr style=\"text-align: right;\">\n",
       "      <th></th>\n",
       "      <th>count</th>\n",
       "    </tr>\n",
       "    <tr>\n",
       "      <th>genre</th>\n",
       "      <th></th>\n",
       "    </tr>\n",
       "  </thead>\n",
       "  <tbody>\n",
       "    <tr>\n",
       "      <th>drama</th>\n",
       "      <td>907</td>\n",
       "    </tr>\n",
       "    <tr>\n",
       "      <th>comedy</th>\n",
       "      <td>667</td>\n",
       "    </tr>\n",
       "    <tr>\n",
       "      <th>adventure</th>\n",
       "      <td>556</td>\n",
       "    </tr>\n",
       "    <tr>\n",
       "      <th>action</th>\n",
       "      <td>555</td>\n",
       "    </tr>\n",
       "    <tr>\n",
       "      <th>documentaries</th>\n",
       "      <td>524</td>\n",
       "    </tr>\n",
       "    <tr>\n",
       "      <th>anime</th>\n",
       "      <td>329</td>\n",
       "    </tr>\n",
       "    <tr>\n",
       "      <th>horror</th>\n",
       "      <td>304</td>\n",
       "    </tr>\n",
       "    <tr>\n",
       "      <th>reality</th>\n",
       "      <td>247</td>\n",
       "    </tr>\n",
       "    <tr>\n",
       "      <th>thriller</th>\n",
       "      <td>231</td>\n",
       "    </tr>\n",
       "    <tr>\n",
       "      <th>crime</th>\n",
       "      <td>217</td>\n",
       "    </tr>\n",
       "  </tbody>\n",
       "</table>\n",
       "</div>"
      ],
      "text/plain": [
       "               count\n",
       "genre               \n",
       "drama            907\n",
       "comedy           667\n",
       "adventure        556\n",
       "action           555\n",
       "documentaries    524\n",
       "anime            329\n",
       "horror           304\n",
       "reality          247\n",
       "thriller         231\n",
       "crime            217"
      ]
     },
     "execution_count": 30,
     "metadata": {},
     "output_type": "execute_result"
    }
   ],
   "source": [
    "hulu_top_10_genres['count'] = hulu_top_10_genres['genre']\n",
    "hulu_top_10_genres = hulu_top_10_genres.drop('genre', axis=1)\n",
    "hulu_top_10_genres"
   ]
  },
  {
   "cell_type": "markdown",
   "id": "d2e427cd",
   "metadata": {},
   "source": [
    "[back to results and findings](#netflix_hulu)"
   ]
  },
  {
   "cell_type": "markdown",
   "id": "63670462",
   "metadata": {},
   "source": [
    "<a id='hulu_ratings'></a>"
   ]
  },
  {
   "cell_type": "markdown",
   "id": "9b031b88",
   "metadata": {},
   "source": [
    "### Hulu 'rating' proportions\n"
   ]
  },
  {
   "cell_type": "code",
   "execution_count": 31,
   "id": "7727d036",
   "metadata": {
    "scrolled": false
   },
   "outputs": [
    {
     "data": {
      "text/plain": [
       "TV-14    0.305617\n",
       "TV-MA    0.172932\n",
       "R        0.152587\n",
       "TV-PG    0.141973\n",
       "PG-13    0.072092\n",
       "TV-G     0.065458\n",
       "PG       0.046440\n",
       "TV-Y7    0.020345\n",
       "TV-Y     0.013711\n",
       "G        0.007961\n",
       "Name: rating, dtype: float64"
      ]
     },
     "execution_count": 31,
     "metadata": {},
     "output_type": "execute_result"
    }
   ],
   "source": [
    "#normalizing the value counts for huluratings to get the proportions\n",
    "hulu_ratings = hulu['rating'].value_counts(normalize=True, ascending=False)[:10]\n",
    "hulu_ratings"
   ]
  },
  {
   "cell_type": "markdown",
   "id": "73d6dc15",
   "metadata": {},
   "source": [
    "<a id='hulu_graph_by_type'></a>"
   ]
  },
  {
   "cell_type": "code",
   "execution_count": 32,
   "id": "9bc7f4cd",
   "metadata": {},
   "outputs": [
    {
     "data": {
      "image/png": "[encoded data removed]",
      "text/plain": [
       "<Figure size 2500x1000 with 1 Axes>"
      ]
     },
     "metadata": {},
     "output_type": "display_data"
    }
   ],
   "source": [
    "#displaying the counts of each rating by the type of content\n",
    "plt.figure(figsize=(25,10))\n",
    "sns.countplot(data = hulu, x = 'rating', hue=\"type\")\n",
    "plt.xlabel(\"rating\")\n",
    "plt.xticks(rotation=90)\n",
    "plt.ylabel(\"Counts of Ratings by Type of Content\")\n",
    "plt.show()"
   ]
  },
  {
   "cell_type": "markdown",
   "id": "41214fe5",
   "metadata": {},
   "source": [
    "[back to results and findings](#netflix_hulu)"
   ]
  },
  {
   "cell_type": "markdown",
   "id": "224e1b52",
   "metadata": {},
   "source": [
    "<a id='rating_type_corr_hulu'></a>"
   ]
  },
  {
   "cell_type": "markdown",
   "id": "aef6ed02",
   "metadata": {},
   "source": [
    "## Combined Dataset"
   ]
  },
  {
   "cell_type": "markdown",
   "id": "7f888195",
   "metadata": {},
   "source": [
    "### comparing titles on each platform\n",
    "<a id='combined_titles'></a>"
   ]
  },
  {
   "cell_type": "code",
   "execution_count": 33,
   "id": "7d6f9d20",
   "metadata": {},
   "outputs": [],
   "source": [
    "combined_df = pd.concat(\n",
    "    [netflix, hulu],\n",
    "    axis=0,\n",
    "    join=\"outer\",\n",
    "    ignore_index=False,\n",
    "    keys=['netflix', 'hulu'],\n",
    "    levels=None,\n",
    "    names=None,\n",
    "    verify_integrity=False,\n",
    "    copy=True,\n",
    ")"
   ]
  },
  {
   "cell_type": "code",
   "execution_count": 34,
   "id": "5dc01433",
   "metadata": {},
   "outputs": [
    {
     "name": "stdout",
     "output_type": "stream",
     "text": [
      "<class 'pandas.core.frame.DataFrame'>\n",
      "MultiIndex: 11880 entries, ('netflix', 0) to ('hulu', 3072)\n",
      "Data columns (total 11 columns):\n",
      " #   Column        Non-Null Count  Dtype \n",
      "---  ------        --------------  ----- \n",
      " 0   type          11880 non-null  object\n",
      " 1   title         11880 non-null  object\n",
      " 2   director      6176 non-null   object\n",
      " 3   cast          7982 non-null   object\n",
      " 4   country       9596 non-null   object\n",
      " 5   date_added    11842 non-null  object\n",
      " 6   release_year  11880 non-null  int64 \n",
      " 7   rating        11061 non-null  object\n",
      " 8   duration      11398 non-null  object\n",
      " 9   listed_in     11880 non-null  object\n",
      " 10  description   11876 non-null  object\n",
      "dtypes: int64(1), object(10)\n",
      "memory usage: 1.4+ MB\n"
     ]
    }
   ],
   "source": [
    "combined_df.info()"
   ]
  },
  {
   "cell_type": "code",
   "execution_count": 35,
   "id": "953d9c28",
   "metadata": {},
   "outputs": [],
   "source": [
    "duplicate_rows = combined_df[combined_df.duplicated(['title', 'type'])]"
   ]
  },
  {
   "cell_type": "code",
   "execution_count": 36,
   "id": "ab5ad69f",
   "metadata": {
    "scrolled": false
   },
   "outputs": [
    {
     "data": {
      "text/html": [
       "<div>\n",
       "<style scoped>\n",
       "    .dataframe tbody tr th:only-of-type {\n",
       "        vertical-align: middle;\n",
       "    }\n",
       "\n",
       "    .dataframe tbody tr th {\n",
       "        vertical-align: top;\n",
       "    }\n",
       "\n",
       "    .dataframe thead th {\n",
       "        text-align: right;\n",
       "    }\n",
       "</style>\n",
       "<table border=\"1\" class=\"dataframe\">\n",
       "  <thead>\n",
       "    <tr style=\"text-align: right;\">\n",
       "      <th></th>\n",
       "      <th></th>\n",
       "      <th>type</th>\n",
       "      <th>title</th>\n",
       "      <th>director</th>\n",
       "      <th>cast</th>\n",
       "      <th>country</th>\n",
       "      <th>date_added</th>\n",
       "      <th>release_year</th>\n",
       "      <th>rating</th>\n",
       "      <th>duration</th>\n",
       "      <th>listed_in</th>\n",
       "      <th>description</th>\n",
       "    </tr>\n",
       "  </thead>\n",
       "  <tbody>\n",
       "    <tr>\n",
       "      <th rowspan=\"3\" valign=\"top\">netflix</th>\n",
       "      <th>6705</th>\n",
       "      <td>Movie</td>\n",
       "      <td>esperando la carroza</td>\n",
       "      <td>Alejandro Doria</td>\n",
       "      <td>Luis Brandoni, China Zorrilla, Antonio Gasalla...</td>\n",
       "      <td>Argentina</td>\n",
       "      <td>July 15, 2018</td>\n",
       "      <td>1985</td>\n",
       "      <td>NR</td>\n",
       "      <td>95 min</td>\n",
       "      <td>comedies, cult movies, international movies</td>\n",
       "      <td>Cora has three sons and a daughter and she´s a...</td>\n",
       "    </tr>\n",
       "    <tr>\n",
       "      <th>7345</th>\n",
       "      <td>Movie</td>\n",
       "      <td>love in a puff</td>\n",
       "      <td>Pang Ho-cheung</td>\n",
       "      <td>Miriam Chin Wah Yeung, Shawn Yue, Singh Hartih...</td>\n",
       "      <td>Hong Kong</td>\n",
       "      <td>August 1, 2018</td>\n",
       "      <td>2010</td>\n",
       "      <td>TV-MA</td>\n",
       "      <td>103 min</td>\n",
       "      <td>comedies, dramas, international movies</td>\n",
       "      <td>When the Hong Kong government enacts a ban on ...</td>\n",
       "    </tr>\n",
       "    <tr>\n",
       "      <th>8022</th>\n",
       "      <td>TV Show</td>\n",
       "      <td>sin senos sí hay paraíso</td>\n",
       "      <td>NaN</td>\n",
       "      <td>Majida Issa, Fabián Ríos, Catherine Siachoque,...</td>\n",
       "      <td>United States, Colombia</td>\n",
       "      <td>January 11, 2019</td>\n",
       "      <td>2018</td>\n",
       "      <td>TV-MA</td>\n",
       "      <td>3 Seasons</td>\n",
       "      <td>international tv shows, spanish-language tv sh...</td>\n",
       "      <td>Born into a small town controlled by the mafia...</td>\n",
       "    </tr>\n",
       "    <tr>\n",
       "      <th rowspan=\"8\" valign=\"top\">hulu</th>\n",
       "      <th>9</th>\n",
       "      <td>TV Show</td>\n",
       "      <td>the bachelorette</td>\n",
       "      <td>NaN</td>\n",
       "      <td>NaN</td>\n",
       "      <td>United States</td>\n",
       "      <td>October 20, 2021</td>\n",
       "      <td>2003</td>\n",
       "      <td>TV-14</td>\n",
       "      <td>3 Seasons</td>\n",
       "      <td>reality, romance</td>\n",
       "      <td>ABC's romance reality show lets one lucky lady...</td>\n",
       "    </tr>\n",
       "    <tr>\n",
       "      <th>17</th>\n",
       "      <td>TV Show</td>\n",
       "      <td>america's book of secrets</td>\n",
       "      <td>NaN</td>\n",
       "      <td>NaN</td>\n",
       "      <td>United States</td>\n",
       "      <td>October 15, 2021</td>\n",
       "      <td>2012</td>\n",
       "      <td>TV-14</td>\n",
       "      <td>1 Season</td>\n",
       "      <td>documentaries, history</td>\n",
       "      <td>America's story can be told in many ways. Whil...</td>\n",
       "    </tr>\n",
       "    <tr>\n",
       "      <th>...</th>\n",
       "      <td>...</td>\n",
       "      <td>...</td>\n",
       "      <td>...</td>\n",
       "      <td>...</td>\n",
       "      <td>...</td>\n",
       "      <td>...</td>\n",
       "      <td>...</td>\n",
       "      <td>...</td>\n",
       "      <td>...</td>\n",
       "      <td>...</td>\n",
       "      <td>...</td>\n",
       "    </tr>\n",
       "    <tr>\n",
       "      <th>3053</th>\n",
       "      <td>TV Show</td>\n",
       "      <td>frasier</td>\n",
       "      <td>NaN</td>\n",
       "      <td>NaN</td>\n",
       "      <td>United States</td>\n",
       "      <td>NaN</td>\n",
       "      <td>1993</td>\n",
       "      <td>TV-PG</td>\n",
       "      <td>11 Seasons</td>\n",
       "      <td>comedy, sitcom</td>\n",
       "      <td>Comedy series set in Seattle, WA, which chroni...</td>\n",
       "    </tr>\n",
       "    <tr>\n",
       "      <th>3065</th>\n",
       "      <td>TV Show</td>\n",
       "      <td>star trek: deep space nine</td>\n",
       "      <td>NaN</td>\n",
       "      <td>NaN</td>\n",
       "      <td>United States</td>\n",
       "      <td>NaN</td>\n",
       "      <td>1995</td>\n",
       "      <td>TV-PG</td>\n",
       "      <td>7 Seasons</td>\n",
       "      <td>action, adventure, science fiction</td>\n",
       "      <td>Star Trek: Deep Space Nine takes place in the ...</td>\n",
       "    </tr>\n",
       "    <tr>\n",
       "      <th>3066</th>\n",
       "      <td>TV Show</td>\n",
       "      <td>star trek: enterprise</td>\n",
       "      <td>NaN</td>\n",
       "      <td>NaN</td>\n",
       "      <td>United States</td>\n",
       "      <td>NaN</td>\n",
       "      <td>2001</td>\n",
       "      <td>TV-PG</td>\n",
       "      <td>4 Seasons</td>\n",
       "      <td>action, adventure, science fiction</td>\n",
       "      <td>Set in the 22nd century, nearly 100 years befo...</td>\n",
       "    </tr>\n",
       "    <tr>\n",
       "      <th>3067</th>\n",
       "      <td>TV Show</td>\n",
       "      <td>star trek: the next generation</td>\n",
       "      <td>NaN</td>\n",
       "      <td>NaN</td>\n",
       "      <td>United States</td>\n",
       "      <td>NaN</td>\n",
       "      <td>1989</td>\n",
       "      <td>TV-PG</td>\n",
       "      <td>7 Seasons</td>\n",
       "      <td>action, adventure, classics</td>\n",
       "      <td>Star Trek: The Next Generation (TNG) focuses o...</td>\n",
       "    </tr>\n",
       "    <tr>\n",
       "      <th>3069</th>\n",
       "      <td>TV Show</td>\n",
       "      <td>star trek: voyager</td>\n",
       "      <td>NaN</td>\n",
       "      <td>NaN</td>\n",
       "      <td>United States</td>\n",
       "      <td>NaN</td>\n",
       "      <td>1997</td>\n",
       "      <td>TV-PG</td>\n",
       "      <td>7 Seasons</td>\n",
       "      <td>action, adventure, science fiction</td>\n",
       "      <td>Catapulted into the distant sector of the gala...</td>\n",
       "    </tr>\n",
       "  </tbody>\n",
       "</table>\n",
       "<p>219 rows × 11 columns</p>\n",
       "</div>"
      ],
      "text/plain": [
       "                 type                           title         director  \\\n",
       "netflix 6705    Movie            esperando la carroza  Alejandro Doria   \n",
       "        7345    Movie                  love in a puff   Pang Ho-cheung   \n",
       "        8022  TV Show        sin senos sí hay paraíso              NaN   \n",
       "hulu    9     TV Show                the bachelorette              NaN   \n",
       "        17    TV Show       america's book of secrets              NaN   \n",
       "...               ...                             ...              ...   \n",
       "        3053  TV Show                         frasier              NaN   \n",
       "        3065  TV Show      star trek: deep space nine              NaN   \n",
       "        3066  TV Show           star trek: enterprise              NaN   \n",
       "        3067  TV Show  star trek: the next generation              NaN   \n",
       "        3069  TV Show              star trek: voyager              NaN   \n",
       "\n",
       "                                                           cast  \\\n",
       "netflix 6705  Luis Brandoni, China Zorrilla, Antonio Gasalla...   \n",
       "        7345  Miriam Chin Wah Yeung, Shawn Yue, Singh Hartih...   \n",
       "        8022  Majida Issa, Fabián Ríos, Catherine Siachoque,...   \n",
       "hulu    9                                                   NaN   \n",
       "        17                                                  NaN   \n",
       "...                                                         ...   \n",
       "        3053                                                NaN   \n",
       "        3065                                                NaN   \n",
       "        3066                                                NaN   \n",
       "        3067                                                NaN   \n",
       "        3069                                                NaN   \n",
       "\n",
       "                              country         date_added  release_year rating  \\\n",
       "netflix 6705                Argentina      July 15, 2018          1985     NR   \n",
       "        7345                Hong Kong     August 1, 2018          2010  TV-MA   \n",
       "        8022  United States, Colombia   January 11, 2019          2018  TV-MA   \n",
       "hulu    9               United States   October 20, 2021          2003  TV-14   \n",
       "        17              United States   October 15, 2021          2012  TV-14   \n",
       "...                               ...                ...           ...    ...   \n",
       "        3053            United States                NaN          1993  TV-PG   \n",
       "        3065            United States                NaN          1995  TV-PG   \n",
       "        3066            United States                NaN          2001  TV-PG   \n",
       "        3067            United States                NaN          1989  TV-PG   \n",
       "        3069            United States                NaN          1997  TV-PG   \n",
       "\n",
       "                duration                                          listed_in  \\\n",
       "netflix 6705      95 min        comedies, cult movies, international movies   \n",
       "        7345     103 min             comedies, dramas, international movies   \n",
       "        8022   3 Seasons  international tv shows, spanish-language tv sh...   \n",
       "hulu    9      3 Seasons                                   reality, romance   \n",
       "        17      1 Season                             documentaries, history   \n",
       "...                  ...                                                ...   \n",
       "        3053  11 Seasons                                     comedy, sitcom   \n",
       "        3065   7 Seasons                 action, adventure, science fiction   \n",
       "        3066   4 Seasons                 action, adventure, science fiction   \n",
       "        3067   7 Seasons                        action, adventure, classics   \n",
       "        3069   7 Seasons                 action, adventure, science fiction   \n",
       "\n",
       "                                                    description  \n",
       "netflix 6705  Cora has three sons and a daughter and she´s a...  \n",
       "        7345  When the Hong Kong government enacts a ban on ...  \n",
       "        8022  Born into a small town controlled by the mafia...  \n",
       "hulu    9     ABC's romance reality show lets one lucky lady...  \n",
       "        17    America's story can be told in many ways. Whil...  \n",
       "...                                                         ...  \n",
       "        3053  Comedy series set in Seattle, WA, which chroni...  \n",
       "        3065  Star Trek: Deep Space Nine takes place in the ...  \n",
       "        3066  Set in the 22nd century, nearly 100 years befo...  \n",
       "        3067  Star Trek: The Next Generation (TNG) focuses o...  \n",
       "        3069  Catapulted into the distant sector of the gala...  \n",
       "\n",
       "[219 rows x 11 columns]"
      ]
     },
     "execution_count": 36,
     "metadata": {},
     "output_type": "execute_result"
    }
   ],
   "source": [
    "duplicate_rows"
   ]
  },
  {
   "cell_type": "markdown",
   "id": "7fbcfa7b",
   "metadata": {},
   "source": [
    "<a id='combined_type_count'></a>"
   ]
  },
  {
   "cell_type": "markdown",
   "id": "922340f4",
   "metadata": {},
   "source": [
    "### Counts of the type for titles that are seen on both platforms"
   ]
  },
  {
   "cell_type": "code",
   "execution_count": 37,
   "id": "7f955c40",
   "metadata": {
    "scrolled": false
   },
   "outputs": [
    {
     "data": {
      "text/plain": [
       "TV Show    113\n",
       "Movie      106\n",
       "Name: type, dtype: int64"
      ]
     },
     "execution_count": 37,
     "metadata": {},
     "output_type": "execute_result"
    }
   ],
   "source": [
    "duplicate_rows['type'].value_counts()"
   ]
  },
  {
   "cell_type": "code",
   "execution_count": 38,
   "id": "f15ce728",
   "metadata": {},
   "outputs": [
    {
     "data": {
      "text/plain": [
       "TV Show    0.515982\n",
       "Movie      0.484018\n",
       "Name: type, dtype: float64"
      ]
     },
     "execution_count": 38,
     "metadata": {},
     "output_type": "execute_result"
    }
   ],
   "source": [
    "#normalizing to give percentages\n",
    "duplicate_rows['type'].value_counts(normalize=True)"
   ]
  },
  {
   "cell_type": "markdown",
   "id": "fe0f4cd0",
   "metadata": {},
   "source": [
    "<a id='graph_combined_counts_by_type'></a>"
   ]
  },
  {
   "cell_type": "markdown",
   "id": "1744b069",
   "metadata": {},
   "source": [
    "### Counts of shared titles by type of content"
   ]
  },
  {
   "cell_type": "code",
   "execution_count": 39,
   "id": "e9b0dc61",
   "metadata": {
    "scrolled": false
   },
   "outputs": [
    {
     "data": {
      "image/png": "[encoded data removed]",
      "text/plain": [
       "<Figure size 2500x1000 with 1 Axes>"
      ]
     },
     "metadata": {},
     "output_type": "display_data"
    }
   ],
   "source": [
    "#displaying the counts of each rating by the type of content\n",
    "plt.figure(figsize=(25,10))\n",
    "sns.countplot(data = duplicate_rows, x ='rating', hue=\"type\")\n",
    "plt.xlabel(\"rating\")\n",
    "plt.xticks(rotation=90)\n",
    "plt.ylabel(\"Counts of Ratings by Type of Content\")\n",
    "plt.show()"
   ]
  },
  {
   "cell_type": "markdown",
   "id": "e727a778",
   "metadata": {},
   "source": [
    "[back to results and findings](#combined)"
   ]
  },
  {
   "cell_type": "markdown",
   "id": "016dfc01",
   "metadata": {},
   "source": [
    "<a id='combined_top_genres'></a>"
   ]
  },
  {
   "cell_type": "markdown",
   "id": "2df25427",
   "metadata": {},
   "source": [
    "### Combined Top Genres"
   ]
  },
  {
   "cell_type": "code",
   "execution_count": 40,
   "id": "13defa06",
   "metadata": {},
   "outputs": [],
   "source": [
    "duplicate_genres=list(duplicate_rows['listed_in'])\n",
    "\n",
    "empty=[]\n",
    "\n",
    "\n",
    "for x in duplicate_genres:\n",
    "    temp=x.split(', ')\n",
    "    for y in temp:\n",
    "        empty.append(y)\n",
    "\n",
    "empty=pd.DataFrame(empty)\n",
    "empty.columns=['genre']\n",
    "group=empty.groupby('genre').agg({'genre':'count'})\n",
    "duplicate_top_10_genres = group.apply(lambda x: x.sort_values(ascending=False))[:10]\n",
    "\n",
    "duplicate_top_10_genres = pd.DataFrame(duplicate_top_10_genres)"
   ]
  },
  {
   "cell_type": "code",
   "execution_count": 41,
   "id": "0c616eb1",
   "metadata": {},
   "outputs": [],
   "source": [
    "duplicate_top_10_genres['count'] = duplicate_top_10_genres['genre']"
   ]
  },
  {
   "cell_type": "code",
   "execution_count": 42,
   "id": "84be2700",
   "metadata": {},
   "outputs": [
    {
     "data": {
      "text/html": [
       "<div>\n",
       "<style scoped>\n",
       "    .dataframe tbody tr th:only-of-type {\n",
       "        vertical-align: middle;\n",
       "    }\n",
       "\n",
       "    .dataframe tbody tr th {\n",
       "        vertical-align: top;\n",
       "    }\n",
       "\n",
       "    .dataframe thead th {\n",
       "        text-align: right;\n",
       "    }\n",
       "</style>\n",
       "<table border=\"1\" class=\"dataframe\">\n",
       "  <thead>\n",
       "    <tr style=\"text-align: right;\">\n",
       "      <th></th>\n",
       "      <th>count</th>\n",
       "    </tr>\n",
       "    <tr>\n",
       "      <th>genre</th>\n",
       "      <th></th>\n",
       "    </tr>\n",
       "  </thead>\n",
       "  <tbody>\n",
       "    <tr>\n",
       "      <th>drama</th>\n",
       "      <td>76</td>\n",
       "    </tr>\n",
       "    <tr>\n",
       "      <th>adventure</th>\n",
       "      <td>61</td>\n",
       "    </tr>\n",
       "    <tr>\n",
       "      <th>action</th>\n",
       "      <td>58</td>\n",
       "    </tr>\n",
       "    <tr>\n",
       "      <th>anime</th>\n",
       "      <td>42</td>\n",
       "    </tr>\n",
       "    <tr>\n",
       "      <th>comedy</th>\n",
       "      <td>42</td>\n",
       "    </tr>\n",
       "    <tr>\n",
       "      <th>documentaries</th>\n",
       "      <td>27</td>\n",
       "    </tr>\n",
       "    <tr>\n",
       "      <th>horror</th>\n",
       "      <td>22</td>\n",
       "    </tr>\n",
       "    <tr>\n",
       "      <th>crime</th>\n",
       "      <td>20</td>\n",
       "    </tr>\n",
       "    <tr>\n",
       "      <th>romance</th>\n",
       "      <td>19</td>\n",
       "    </tr>\n",
       "    <tr>\n",
       "      <th>international</th>\n",
       "      <td>19</td>\n",
       "    </tr>\n",
       "  </tbody>\n",
       "</table>\n",
       "</div>"
      ],
      "text/plain": [
       "               count\n",
       "genre               \n",
       "drama             76\n",
       "adventure         61\n",
       "action            58\n",
       "anime             42\n",
       "comedy            42\n",
       "documentaries     27\n",
       "horror            22\n",
       "crime             20\n",
       "romance           19\n",
       "international     19"
      ]
     },
     "execution_count": 42,
     "metadata": {},
     "output_type": "execute_result"
    }
   ],
   "source": [
    "duplicate_top_10_genres = duplicate_top_10_genres.drop('genre', axis=1)\n",
    "duplicate_top_10_genres"
   ]
  },
  {
   "cell_type": "markdown",
   "id": "e0249aa0",
   "metadata": {},
   "source": [
    "[back to results and findings](#combined)"
   ]
  },
  {
   "cell_type": "markdown",
   "id": "f7b6577a",
   "metadata": {},
   "source": [
    "<a id='combined_ratings'></a>"
   ]
  },
  {
   "cell_type": "markdown",
   "id": "34714b5d",
   "metadata": {},
   "source": [
    "### Combined ratings"
   ]
  },
  {
   "cell_type": "code",
   "execution_count": 43,
   "id": "3946845c",
   "metadata": {},
   "outputs": [
    {
     "data": {
      "text/plain": [
       "TV-MA    0.325287\n",
       "TV-14    0.257752\n",
       "TV-PG    0.107043\n",
       "R        0.103426\n",
       "PG-13    0.059036\n",
       "PG       0.035440\n",
       "TV-Y7    0.034355\n",
       "TV-G     0.033270\n",
       "TV-Y     0.030558\n",
       "NR       0.007323\n",
       "Name: rating, dtype: float64"
      ]
     },
     "execution_count": 43,
     "metadata": {},
     "output_type": "execute_result"
    }
   ],
   "source": [
    "combined_ratings = combined_df['rating'].value_counts(normalize=True, ascending=False)[:10]\n",
    "combined_ratings"
   ]
  },
  {
   "cell_type": "markdown",
   "id": "b6c24dce",
   "metadata": {},
   "source": [
    "[back to results and findings](#combined)"
   ]
  },
  {
   "cell_type": "markdown",
   "id": "34e31db5",
   "metadata": {},
   "source": [
    "<a id='genre_bar_graphs'></a>"
   ]
  },
  {
   "cell_type": "markdown",
   "id": "c43b7b86",
   "metadata": {},
   "source": [
    "### Comparing the top genres from Netflix, Hulu, and the top genres from the titles they both share"
   ]
  },
  {
   "cell_type": "code",
   "execution_count": 44,
   "id": "6977cd48",
   "metadata": {},
   "outputs": [],
   "source": [
    "duplicate_genres = duplicate_top_10_genres['count']\n",
    "netflix_genres = netflix_top_10_genres['count']\n",
    "hulu_genres = hulu_top_10_genres['count']"
   ]
  },
  {
   "cell_type": "code",
   "execution_count": 45,
   "id": "21b4eff7",
   "metadata": {},
   "outputs": [
    {
     "data": {
      "image/png": "[encoded data removed]",
      "text/plain": [
       "<Figure size 640x480 with 1 Axes>"
      ]
     },
     "metadata": {},
     "output_type": "display_data"
    },
    {
     "data": {
      "image/png": "[encoded data removed]",
      "text/plain": [
       "<Figure size 640x480 with 1 Axes>"
      ]
     },
     "metadata": {},
     "output_type": "display_data"
    },
    {
     "data": {
      "image/png": "[encoded data removed]",
      "text/plain": [
       "<Figure size 640x480 with 1 Axes>"
      ]
     },
     "metadata": {},
     "output_type": "display_data"
    }
   ],
   "source": [
    "fig, axs = plt.subplots(1,1) \n",
    "duplicate_genres.plot(kind='bar')\n",
    "axs.set_title('Counts of the top 10 genres shared by \\n Netflix & Hulu') \n",
    "axs.set_ylabel('Count') \n",
    "axs.set_xlabel('Genre') \n",
    "plt.show() \n",
    "\n",
    "fig, axs = plt.subplots(1,1) \n",
    "netflix_genres.plot(kind='bar')\n",
    "axs.set_title('Counts of the top 10 genres on \\n Netflix') \n",
    "axs.set_ylabel('Count') \n",
    "axs.set_xlabel('Genre') \n",
    "plt.show() \n",
    "\n",
    "fig, axs = plt.subplots(1,1) \n",
    "hulu_genres.plot(kind='bar')\n",
    "axs.set_title('Counts of the top 10 genres on \\n Hulu') \n",
    "axs.set_ylabel('Count') \n",
    "axs.set_xlabel('Genre') \n",
    "plt.show() "
   ]
  }
 ],
 "metadata": {
  "kernelspec": {
   "display_name": "Python 3 (ipykernel)",
   "language": "python",
   "name": "python3"
  },
  "language_info": {
   "codemirror_mode": {
    "name": "ipython",
    "version": 3
   },
   "file_extension": ".py",
   "mimetype": "text/x-python",
   "name": "python",
   "nbconvert_exporter": "python",
   "pygments_lexer": "ipython3",
   "version": "3.8.10"
  }
 },
 "nbformat": 4,
 "nbformat_minor": 5
}
